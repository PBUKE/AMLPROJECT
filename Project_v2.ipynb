{
 "cells": [
  {
   "cell_type": "code",
   "execution_count": 61,
   "metadata": {},
   "outputs": [],
   "source": [
    "# importing libraries\n",
    "\n",
    "import numpy as np\n",
    "import pandas as pd\n",
    "import matplotlib.pyplot as plt\n",
    "import seaborn as sns\n",
    "from sklearn.feature_extraction.text import CountVectorizer\n",
    "from sklearn.naive_bayes import GaussianNB\n",
    "from sklearn.naive_bayes import MultinomialNB\n",
    "from sklearn.linear_model import LogisticRegression\n",
    "from sklearn.ensemble import RandomForestClassifier\n",
    "from sklearn.tree import DecisionTreeClassifier\n",
    "from sklearn.metrics import f1_score, accuracy_score\n",
    "from bs4 import BeautifulSoup\n",
    "import re\n",
    "import nltk\n",
    "from sklearn.model_selection import train_test_split\n",
    "from sklearn.utils import shuffle\n",
    "from nltk.corpus import stopwords\n",
    "from sklearn.metrics import roc_curve\n",
    "from sklearn.metrics import precision_recall_curve\n",
    "from sklearn.metrics import PrecisionRecallDisplay\n",
    "from sklearn.cluster import KMeans\n",
    "\n",
    "import warnings\n",
    "warnings.filterwarnings(\"ignore\")"
   ]
  },
  {
   "cell_type": "code",
   "execution_count": 2,
   "metadata": {
    "scrolled": true
   },
   "outputs": [
    {
     "data": {
      "text/html": [
       "<div>\n",
       "<style scoped>\n",
       "    .dataframe tbody tr th:only-of-type {\n",
       "        vertical-align: middle;\n",
       "    }\n",
       "\n",
       "    .dataframe tbody tr th {\n",
       "        vertical-align: top;\n",
       "    }\n",
       "\n",
       "    .dataframe thead th {\n",
       "        text-align: right;\n",
       "    }\n",
       "</style>\n",
       "<table border=\"1\" class=\"dataframe\">\n",
       "  <thead>\n",
       "    <tr style=\"text-align: right;\">\n",
       "      <th></th>\n",
       "      <th>sentence</th>\n",
       "    </tr>\n",
       "  </thead>\n",
       "  <tbody>\n",
       "    <tr>\n",
       "      <th>0</th>\n",
       "      <td>The Rock is destined to be the 21st Century 's...</td>\n",
       "    </tr>\n",
       "    <tr>\n",
       "      <th>1</th>\n",
       "      <td>The gorgeously elaborate continuation of `` Th...</td>\n",
       "    </tr>\n",
       "    <tr>\n",
       "      <th>2</th>\n",
       "      <td>Effective but too-tepid biopic</td>\n",
       "    </tr>\n",
       "    <tr>\n",
       "      <th>3</th>\n",
       "      <td>If you sometimes like to go to the movies to h...</td>\n",
       "    </tr>\n",
       "    <tr>\n",
       "      <th>4</th>\n",
       "      <td>Emerges as something rare , an issue movie tha...</td>\n",
       "    </tr>\n",
       "  </tbody>\n",
       "</table>\n",
       "</div>"
      ],
      "text/plain": [
       "                                            sentence\n",
       "0  The Rock is destined to be the 21st Century 's...\n",
       "1  The gorgeously elaborate continuation of `` Th...\n",
       "2                     Effective but too-tepid biopic\n",
       "3  If you sometimes like to go to the movies to h...\n",
       "4  Emerges as something rare , an issue movie tha..."
      ]
     },
     "execution_count": 2,
     "metadata": {},
     "output_type": "execute_result"
    }
   ],
   "source": [
    "#import original data\n",
    "\n",
    "sentences_data = pd.read_csv(\"data\\datasetSentences.txt\", sep=\"\\t\")\n",
    "sentences_data.drop('sentence_index', axis=1, inplace=True)\n",
    "sentences_data.head(5)"
   ]
  },
  {
   "cell_type": "code",
   "execution_count": 3,
   "metadata": {},
   "outputs": [],
   "source": [
    "# Load SentimentIntensityAnalyzer\n",
    "from nltk.sentiment.vader import SentimentIntensityAnalyzer\n",
    "\n",
    "# Instantiate new SentimentIntensityAnalyzer\n",
    "sid = SentimentIntensityAnalyzer()"
   ]
  },
  {
   "cell_type": "code",
   "execution_count": 4,
   "metadata": {},
   "outputs": [],
   "source": [
    "# Generate sentiment scores\n",
    "scores = sentences_data['sentence'].apply(sid.polarity_scores)"
   ]
  },
  {
   "cell_type": "code",
   "execution_count": 5,
   "metadata": {},
   "outputs": [
    {
     "data": {
      "text/html": [
       "<div>\n",
       "<style scoped>\n",
       "    .dataframe tbody tr th:only-of-type {\n",
       "        vertical-align: middle;\n",
       "    }\n",
       "\n",
       "    .dataframe tbody tr th {\n",
       "        vertical-align: top;\n",
       "    }\n",
       "\n",
       "    .dataframe thead th {\n",
       "        text-align: right;\n",
       "    }\n",
       "</style>\n",
       "<table border=\"1\" class=\"dataframe\">\n",
       "  <thead>\n",
       "    <tr style=\"text-align: right;\">\n",
       "      <th></th>\n",
       "      <th>sentence</th>\n",
       "      <th>neg</th>\n",
       "      <th>neu</th>\n",
       "      <th>pos</th>\n",
       "      <th>compound</th>\n",
       "    </tr>\n",
       "  </thead>\n",
       "  <tbody>\n",
       "    <tr>\n",
       "      <th>0</th>\n",
       "      <td>The Rock is destined to be the 21st Century 's...</td>\n",
       "      <td>0.000</td>\n",
       "      <td>0.928</td>\n",
       "      <td>0.072</td>\n",
       "      <td>0.3612</td>\n",
       "    </tr>\n",
       "    <tr>\n",
       "      <th>1</th>\n",
       "      <td>The gorgeously elaborate continuation of `` Th...</td>\n",
       "      <td>0.000</td>\n",
       "      <td>0.794</td>\n",
       "      <td>0.206</td>\n",
       "      <td>0.8069</td>\n",
       "    </tr>\n",
       "    <tr>\n",
       "      <th>2</th>\n",
       "      <td>Effective but too-tepid biopic</td>\n",
       "      <td>0.000</td>\n",
       "      <td>0.594</td>\n",
       "      <td>0.406</td>\n",
       "      <td>0.2617</td>\n",
       "    </tr>\n",
       "    <tr>\n",
       "      <th>3</th>\n",
       "      <td>If you sometimes like to go to the movies to h...</td>\n",
       "      <td>0.000</td>\n",
       "      <td>0.633</td>\n",
       "      <td>0.367</td>\n",
       "      <td>0.8271</td>\n",
       "    </tr>\n",
       "    <tr>\n",
       "      <th>4</th>\n",
       "      <td>Emerges as something rare , an issue movie tha...</td>\n",
       "      <td>0.079</td>\n",
       "      <td>0.676</td>\n",
       "      <td>0.244</td>\n",
       "      <td>0.6592</td>\n",
       "    </tr>\n",
       "    <tr>\n",
       "      <th>5</th>\n",
       "      <td>The film provides some great insight into the ...</td>\n",
       "      <td>0.078</td>\n",
       "      <td>0.684</td>\n",
       "      <td>0.238</td>\n",
       "      <td>0.5994</td>\n",
       "    </tr>\n",
       "    <tr>\n",
       "      <th>6</th>\n",
       "      <td>Offers that rare combination of entertainment ...</td>\n",
       "      <td>0.000</td>\n",
       "      <td>0.714</td>\n",
       "      <td>0.286</td>\n",
       "      <td>0.4215</td>\n",
       "    </tr>\n",
       "    <tr>\n",
       "      <th>7</th>\n",
       "      <td>Perhaps no picture ever made has more literall...</td>\n",
       "      <td>0.265</td>\n",
       "      <td>0.623</td>\n",
       "      <td>0.113</td>\n",
       "      <td>-0.5994</td>\n",
       "    </tr>\n",
       "    <tr>\n",
       "      <th>8</th>\n",
       "      <td>Steers turns in a snappy screenplay that curls...</td>\n",
       "      <td>0.147</td>\n",
       "      <td>0.637</td>\n",
       "      <td>0.216</td>\n",
       "      <td>0.1852</td>\n",
       "    </tr>\n",
       "    <tr>\n",
       "      <th>9</th>\n",
       "      <td>But he somehow pulls it off .</td>\n",
       "      <td>0.000</td>\n",
       "      <td>1.000</td>\n",
       "      <td>0.000</td>\n",
       "      <td>0.0000</td>\n",
       "    </tr>\n",
       "  </tbody>\n",
       "</table>\n",
       "</div>"
      ],
      "text/plain": [
       "                                            sentence    neg    neu    pos  \\\n",
       "0  The Rock is destined to be the 21st Century 's...  0.000  0.928  0.072   \n",
       "1  The gorgeously elaborate continuation of `` Th...  0.000  0.794  0.206   \n",
       "2                     Effective but too-tepid biopic  0.000  0.594  0.406   \n",
       "3  If you sometimes like to go to the movies to h...  0.000  0.633  0.367   \n",
       "4  Emerges as something rare , an issue movie tha...  0.079  0.676  0.244   \n",
       "5  The film provides some great insight into the ...  0.078  0.684  0.238   \n",
       "6  Offers that rare combination of entertainment ...  0.000  0.714  0.286   \n",
       "7  Perhaps no picture ever made has more literall...  0.265  0.623  0.113   \n",
       "8  Steers turns in a snappy screenplay that curls...  0.147  0.637  0.216   \n",
       "9                      But he somehow pulls it off .  0.000  1.000  0.000   \n",
       "\n",
       "   compound  \n",
       "0    0.3612  \n",
       "1    0.8069  \n",
       "2    0.2617  \n",
       "3    0.8271  \n",
       "4    0.6592  \n",
       "5    0.5994  \n",
       "6    0.4215  \n",
       "7   -0.5994  \n",
       "8    0.1852  \n",
       "9    0.0000  "
      ]
     },
     "execution_count": 5,
     "metadata": {},
     "output_type": "execute_result"
    }
   ],
   "source": [
    "# adding sentiment scores to data frame\n",
    "\n",
    "score_names=['neg', 'neu', 'pos', 'compound']\n",
    "for name in score_names:\n",
    "        new_column=[]\n",
    "        for n in range(len(sentences_data)):\n",
    "            new_column.append(scores.values[n][name])\n",
    "        sentences_data[name]=new_column\n",
    "        \n",
    "sentences_data.head(10)"
   ]
  },
  {
   "cell_type": "markdown",
   "metadata": {},
   "source": [
    "# Converting Binary Data"
   ]
  },
  {
   "cell_type": "code",
   "execution_count": 6,
   "metadata": {},
   "outputs": [
    {
     "data": {
      "text/html": [
       "<div>\n",
       "<style scoped>\n",
       "    .dataframe tbody tr th:only-of-type {\n",
       "        vertical-align: middle;\n",
       "    }\n",
       "\n",
       "    .dataframe tbody tr th {\n",
       "        vertical-align: top;\n",
       "    }\n",
       "\n",
       "    .dataframe thead th {\n",
       "        text-align: right;\n",
       "    }\n",
       "</style>\n",
       "<table border=\"1\" class=\"dataframe\">\n",
       "  <thead>\n",
       "    <tr style=\"text-align: right;\">\n",
       "      <th></th>\n",
       "      <th>sentence</th>\n",
       "      <th>neg</th>\n",
       "      <th>neu</th>\n",
       "      <th>pos</th>\n",
       "      <th>compound</th>\n",
       "      <th>sentiment</th>\n",
       "    </tr>\n",
       "  </thead>\n",
       "  <tbody>\n",
       "    <tr>\n",
       "      <th>0</th>\n",
       "      <td>The Rock is destined to be the 21st Century 's...</td>\n",
       "      <td>0.000</td>\n",
       "      <td>0.928</td>\n",
       "      <td>0.072</td>\n",
       "      <td>0.3612</td>\n",
       "      <td>1</td>\n",
       "    </tr>\n",
       "    <tr>\n",
       "      <th>1</th>\n",
       "      <td>The gorgeously elaborate continuation of `` Th...</td>\n",
       "      <td>0.000</td>\n",
       "      <td>0.794</td>\n",
       "      <td>0.206</td>\n",
       "      <td>0.8069</td>\n",
       "      <td>1</td>\n",
       "    </tr>\n",
       "    <tr>\n",
       "      <th>2</th>\n",
       "      <td>Effective but too-tepid biopic</td>\n",
       "      <td>0.000</td>\n",
       "      <td>0.594</td>\n",
       "      <td>0.406</td>\n",
       "      <td>0.2617</td>\n",
       "      <td>1</td>\n",
       "    </tr>\n",
       "    <tr>\n",
       "      <th>3</th>\n",
       "      <td>If you sometimes like to go to the movies to h...</td>\n",
       "      <td>0.000</td>\n",
       "      <td>0.633</td>\n",
       "      <td>0.367</td>\n",
       "      <td>0.8271</td>\n",
       "      <td>1</td>\n",
       "    </tr>\n",
       "    <tr>\n",
       "      <th>4</th>\n",
       "      <td>Emerges as something rare , an issue movie tha...</td>\n",
       "      <td>0.079</td>\n",
       "      <td>0.676</td>\n",
       "      <td>0.244</td>\n",
       "      <td>0.6592</td>\n",
       "      <td>1</td>\n",
       "    </tr>\n",
       "  </tbody>\n",
       "</table>\n",
       "</div>"
      ],
      "text/plain": [
       "                                            sentence    neg    neu    pos  \\\n",
       "0  The Rock is destined to be the 21st Century 's...  0.000  0.928  0.072   \n",
       "1  The gorgeously elaborate continuation of `` Th...  0.000  0.794  0.206   \n",
       "2                     Effective but too-tepid biopic  0.000  0.594  0.406   \n",
       "3  If you sometimes like to go to the movies to h...  0.000  0.633  0.367   \n",
       "4  Emerges as something rare , an issue movie tha...  0.079  0.676  0.244   \n",
       "\n",
       "   compound  sentiment  \n",
       "0    0.3612          1  \n",
       "1    0.8069          1  \n",
       "2    0.2617          1  \n",
       "3    0.8271          1  \n",
       "4    0.6592          1  "
      ]
     },
     "execution_count": 6,
     "metadata": {},
     "output_type": "execute_result"
    }
   ],
   "source": [
    "sentences_data['sentiment']= np.where(sentences_data['compound']<0, 0, 1)\n",
    "sentences_data.head(5)"
   ]
  },
  {
   "cell_type": "markdown",
   "metadata": {},
   "source": [
    "# Preprocessing"
   ]
  },
  {
   "cell_type": "code",
   "execution_count": 7,
   "metadata": {},
   "outputs": [],
   "source": [
    "# Removing HTML tags using the BeautifulSoup module.\n",
    "for i in range(len(sentences_data)):\n",
    "    sentences_data['sentence'][i] = BeautifulSoup(sentences_data['sentence'][i]).get_text()"
   ]
  },
  {
   "cell_type": "code",
   "execution_count": 8,
   "metadata": {},
   "outputs": [],
   "source": [
    "# Removing punctuation\n",
    "for i in range(len(sentences_data)):\n",
    "    sentences_data['sentence'][i] = re.sub(\"[^a-zA-Z]\", ' ', sentences_data['sentence'][i])"
   ]
  },
  {
   "cell_type": "code",
   "execution_count": 9,
   "metadata": {},
   "outputs": [],
   "source": [
    "# converting into lowercase and splitting to eliminate stopwords\n",
    "for i in range(len(sentences_data)):\n",
    "    sentences_data['sentence'][i] = sentences_data['sentence'][i].lower()\n",
    "    sentences_data['sentence'][i] = sentences_data['sentence'][i].split()"
   ]
  },
  {
   "cell_type": "code",
   "execution_count": 10,
   "metadata": {},
   "outputs": [
    {
     "data": {
      "text/html": [
       "<div>\n",
       "<style scoped>\n",
       "    .dataframe tbody tr th:only-of-type {\n",
       "        vertical-align: middle;\n",
       "    }\n",
       "\n",
       "    .dataframe tbody tr th {\n",
       "        vertical-align: top;\n",
       "    }\n",
       "\n",
       "    .dataframe thead th {\n",
       "        text-align: right;\n",
       "    }\n",
       "</style>\n",
       "<table border=\"1\" class=\"dataframe\">\n",
       "  <thead>\n",
       "    <tr style=\"text-align: right;\">\n",
       "      <th></th>\n",
       "      <th>sentence</th>\n",
       "      <th>neg</th>\n",
       "      <th>neu</th>\n",
       "      <th>pos</th>\n",
       "      <th>compound</th>\n",
       "      <th>sentiment</th>\n",
       "    </tr>\n",
       "  </thead>\n",
       "  <tbody>\n",
       "    <tr>\n",
       "      <th>0</th>\n",
       "      <td>rock destined st century new conan going make ...</td>\n",
       "      <td>0.0</td>\n",
       "      <td>0.928</td>\n",
       "      <td>0.072</td>\n",
       "      <td>0.3612</td>\n",
       "      <td>1</td>\n",
       "    </tr>\n",
       "    <tr>\n",
       "      <th>1</th>\n",
       "      <td>gorgeously elaborate continuation lord rings t...</td>\n",
       "      <td>0.0</td>\n",
       "      <td>0.794</td>\n",
       "      <td>0.206</td>\n",
       "      <td>0.8069</td>\n",
       "      <td>1</td>\n",
       "    </tr>\n",
       "    <tr>\n",
       "      <th>2</th>\n",
       "      <td>effective tepid biopic</td>\n",
       "      <td>0.0</td>\n",
       "      <td>0.594</td>\n",
       "      <td>0.406</td>\n",
       "      <td>0.2617</td>\n",
       "      <td>1</td>\n",
       "    </tr>\n",
       "  </tbody>\n",
       "</table>\n",
       "</div>"
      ],
      "text/plain": [
       "                                            sentence  neg    neu    pos  \\\n",
       "0  rock destined st century new conan going make ...  0.0  0.928  0.072   \n",
       "1  gorgeously elaborate continuation lord rings t...  0.0  0.794  0.206   \n",
       "2                             effective tepid biopic  0.0  0.594  0.406   \n",
       "\n",
       "   compound  sentiment  \n",
       "0    0.3612          1  \n",
       "1    0.8069          1  \n",
       "2    0.2617          1  "
      ]
     },
     "execution_count": 10,
     "metadata": {},
     "output_type": "execute_result"
    }
   ],
   "source": [
    "# setting stopwords and removing them\n",
    "swords = set(stopwords.words(\"english\"))\n",
    "\n",
    "for i in range(len(sentences_data)):\n",
    "    sentences_data['sentence'][i] = [w for w in sentences_data['sentence'][i] if w not in swords]               \n",
    "    sentences_data['sentence'][i]= \" \".join(sentences_data['sentence'][i])\n",
    "sentences_data.head(3)"
   ]
  },
  {
   "cell_type": "markdown",
   "metadata": {},
   "source": [
    "# Splitting Train-Test data"
   ]
  },
  {
   "cell_type": "code",
   "execution_count": 11,
   "metadata": {},
   "outputs": [],
   "source": [
    "# creating features and targets\n",
    "X = sentences_data['sentence']\n",
    "y  = sentences_data['sentiment']"
   ]
  },
  {
   "cell_type": "code",
   "execution_count": 12,
   "metadata": {},
   "outputs": [],
   "source": [
    "# splitting data\n",
    "X_train, X_test, y_train, y_test = train_test_split(X, y, stratify = y, test_size = 0.2, shuffle = True, random_state = 25)"
   ]
  },
  {
   "cell_type": "code",
   "execution_count": 13,
   "metadata": {},
   "outputs": [
    {
     "name": "stdout",
     "output_type": "stream",
     "text": [
      "(9484,) (2371,) (9484,) (2371,)\n"
     ]
    }
   ],
   "source": [
    "# shapes of arrays\n",
    "print(X_train.shape, X_test.shape, y_train.shape, y_test.shape)"
   ]
  },
  {
   "cell_type": "markdown",
   "metadata": {},
   "source": [
    "# Modelling a Vectorizer"
   ]
  },
  {
   "cell_type": "markdown",
   "metadata": {},
   "source": [
    "X_train"
   ]
  },
  {
   "cell_type": "code",
   "execution_count": 14,
   "metadata": {},
   "outputs": [],
   "source": [
    "# Using the countvectorizer to create a vector-model with a maximum of 10,000 words.\n",
    "vect = CountVectorizer(max_features=10000)"
   ]
  },
  {
   "cell_type": "code",
   "execution_count": 15,
   "metadata": {},
   "outputs": [
    {
     "data": {
      "text/plain": [
       "array([[0, 0, 0, ..., 0, 0, 0],\n",
       "       [0, 0, 0, ..., 0, 0, 0],\n",
       "       [0, 0, 0, ..., 0, 0, 0],\n",
       "       ...,\n",
       "       [0, 0, 0, ..., 0, 0, 0],\n",
       "       [0, 0, 0, ..., 0, 0, 0],\n",
       "       [0, 0, 0, ..., 0, 0, 0]], dtype=int64)"
      ]
     },
     "execution_count": 15,
     "metadata": {},
     "output_type": "execute_result"
    }
   ],
   "source": [
    "# Converting train data to feature vector matrix\n",
    "X_train_vect = vect.fit_transform(X_train)\n",
    "my_array = X_train_vect.toarray()\n",
    "my_array"
   ]
  },
  {
   "cell_type": "code",
   "execution_count": 16,
   "metadata": {},
   "outputs": [
    {
     "data": {
      "text/plain": [
       "(9484, 10000)"
      ]
     },
     "execution_count": 16,
     "metadata": {},
     "output_type": "execute_result"
    }
   ],
   "source": [
    "X_train_df= pd.DataFrame(my_array, columns=vect.get_feature_names())\n",
    "X_train_df.shape"
   ]
  },
  {
   "cell_type": "markdown",
   "metadata": {},
   "source": [
    "X_test"
   ]
  },
  {
   "cell_type": "code",
   "execution_count": 73,
   "metadata": {},
   "outputs": [
    {
     "data": {
      "text/plain": [
       "(2371, 10000)"
      ]
     },
     "execution_count": 73,
     "metadata": {},
     "output_type": "execute_result"
    }
   ],
   "source": [
    "X_test_df = vect.transform(X_test)\n",
    "X_test_df = X_test_df.toarray()\n",
    "X_train_df= pd.DataFrame(X_test_df, columns=vect.get_feature_names())\n",
    "X_test_df.shape"
   ]
  },
  {
   "cell_type": "markdown",
   "metadata": {},
   "source": [
    "# Supervised Models"
   ]
  },
  {
   "cell_type": "code",
   "execution_count": 18,
   "metadata": {},
   "outputs": [],
   "source": [
    "models = []\n",
    "\n",
    "models.append((\"Gaussian Naive Bayes\", GaussianNB()))\n",
    "models.append((\"Multinomial Naive Bayes\", MultinomialNB()))\n",
    "models.append((\"Logistic Regression\", LogisticRegression()))\n",
    "models.append((\"Random Forest Classifier\", RandomForestClassifier()))\n",
    "models.append((\"Decision Tree Classifier\", DecisionTreeClassifier()))"
   ]
  },
  {
   "cell_type": "code",
   "execution_count": 19,
   "metadata": {},
   "outputs": [
    {
     "name": "stdout",
     "output_type": "stream",
     "text": [
      "Wall time: 2.25 s\n",
      "Gaussian Naive Bayes Accuracy Score : 0.5267819485449178\n",
      "Gaussian Naive Bayes F1 Score : 0.549214529667334\n",
      "------------------------------\n",
      "Wall time: 3.61 s\n",
      "Multinomial Naive Bayes Accuracy Score : 0.7840573597638127\n",
      "Multinomial Naive Bayes F1 Score : 0.7662168364100004\n",
      "------------------------------\n",
      "Wall time: 9.42 s\n",
      "Logistic Regression Accuracy Score : 0.7979755377477857\n",
      "Logistic Regression F1 Score : 0.7820766705960446\n",
      "------------------------------\n",
      "Wall time: 1h 4min 42s\n",
      "Random Forest Classifier Accuracy Score : 0.7908055672711936\n",
      "Random Forest Classifier F1 Score : 0.7823673547498851\n",
      "------------------------------\n",
      "Wall time: 35min 6s\n",
      "Decision Tree Classifier Accuracy Score : 0.7579080556727119\n",
      "Decision Tree Classifier F1 Score : 0.758124583756874\n",
      "------------------------------\n"
     ]
    }
   ],
   "source": [
    "for name, model in models:\n",
    "\n",
    "# Fitting the models\n",
    "    %time model.fit(X_train_df, y_train)\n",
    "# Predictions of models\n",
    "    y_pred = model.predict(X_test_df)\n",
    "    print(name, \"Accuracy Score :\", accuracy_score(y_test, y_pred))\n",
    "    print(name, \"F1 Score :\", f1_score(y_test, y_pred, average = \"weighted\"))\n",
    "    print(\"---\" * 10)"
   ]
  },
  {
   "cell_type": "code",
   "execution_count": 55,
   "metadata": {},
   "outputs": [
    {
     "data": {
      "image/png": "[encoded data removed]",
      "text/plain": [
       "<Figure size 1080x216 with 5 Axes>"
      ]
     },
     "metadata": {
      "needs_background": "light"
     },
     "output_type": "display_data"
    }
   ],
   "source": [
    "# Generate ROC curve values: fpr, tpr, thresholds\n",
    "count=0\n",
    "\n",
    "fig, axes = plt.subplots(1, 5, figsize=(15, 3), sharey=True)\n",
    "\n",
    "for name, model in models:\n",
    "    \n",
    "    y_pred = model.predict(X_test_df)\n",
    "    fpr, tpr, thresholds = roc_curve(y_test, y_pred)\n",
    "    \n",
    "    axes[count].plot(fpr, tpr)\n",
    "    axes[count].plot([0, 1], [0, 1], 'r--')\n",
    "    axes[count].set_xlabel('False Positive Rate')\n",
    "    axes[count].set_ylabel('True Positive Rate')\n",
    "    axes[count].set_title(name +' \\nROC Curve')\n",
    "    count+=1\n",
    "plt.show()"
   ]
  },
  {
   "cell_type": "code",
   "execution_count": 58,
   "metadata": {},
   "outputs": [
    {
     "data": {
      "image/png": "[encoded data removed]",
      "text/plain": [
       "<Figure size 1080x216 with 5 Axes>"
      ]
     },
     "metadata": {
      "needs_background": "light"
     },
     "output_type": "display_data"
    }
   ],
   "source": [
    "count=0\n",
    "\n",
    "fig, axes = plt.subplots(1, 5, figsize=(15, 3), sharey=True)\n",
    "\n",
    "for name, model in models:\n",
    "    \n",
    "    y_pred = model.predict(X_test_df)\n",
    "    prec, recall, _ = precision_recall_curve(y_test, y_pred)\n",
    "\n",
    "    axes[count].plot(prec, recall)\n",
    "    axes[count].set_xlabel('Recall')\n",
    "    axes[count].set_ylabel('Precision')\n",
    "    axes[count].set_title(name +' \\nPrecision_Recall Curve')\n",
    "    count+=1\n",
    "plt.show()\n"
   ]
  },
  {
   "cell_type": "markdown",
   "metadata": {},
   "source": [
    "# Human-labelled Data"
   ]
  },
  {
   "cell_type": "code",
   "execution_count": 43,
   "metadata": {},
   "outputs": [
    {
     "data": {
      "text/html": [
       "<div>\n",
       "<style scoped>\n",
       "    .dataframe tbody tr th:only-of-type {\n",
       "        vertical-align: middle;\n",
       "    }\n",
       "\n",
       "    .dataframe tbody tr th {\n",
       "        vertical-align: top;\n",
       "    }\n",
       "\n",
       "    .dataframe thead th {\n",
       "        text-align: right;\n",
       "    }\n",
       "</style>\n",
       "<table border=\"1\" class=\"dataframe\">\n",
       "  <thead>\n",
       "    <tr style=\"text-align: right;\">\n",
       "      <th></th>\n",
       "      <th>review</th>\n",
       "      <th>sentiment</th>\n",
       "    </tr>\n",
       "  </thead>\n",
       "  <tbody>\n",
       "    <tr>\n",
       "      <th>0</th>\n",
       "      <td>Will no doubt delight Plympton 's legion of fa...</td>\n",
       "      <td>1</td>\n",
       "    </tr>\n",
       "    <tr>\n",
       "      <th>1</th>\n",
       "      <td>The pacing is often way off and there are too ...</td>\n",
       "      <td>0</td>\n",
       "    </tr>\n",
       "    <tr>\n",
       "      <th>2</th>\n",
       "      <td>Shows moments of promise but ultimately succum...</td>\n",
       "      <td>0</td>\n",
       "    </tr>\n",
       "    <tr>\n",
       "      <th>3</th>\n",
       "      <td>Unless you are in dire need of a Diesel fix , ...</td>\n",
       "      <td>0</td>\n",
       "    </tr>\n",
       "    <tr>\n",
       "      <th>4</th>\n",
       "      <td>Not everything works , but the average is high...</td>\n",
       "      <td>1</td>\n",
       "    </tr>\n",
       "  </tbody>\n",
       "</table>\n",
       "</div>"
      ],
      "text/plain": [
       "                                              review  sentiment\n",
       "0  Will no doubt delight Plympton 's legion of fa...          1\n",
       "1  The pacing is often way off and there are too ...          0\n",
       "2  Shows moments of promise but ultimately succum...          0\n",
       "3  Unless you are in dire need of a Diesel fix , ...          0\n",
       "4  Not everything works , but the average is high...          1"
      ]
     },
     "execution_count": 43,
     "metadata": {},
     "output_type": "execute_result"
    }
   ],
   "source": [
    "#import our labelled dataset\n",
    "\n",
    "human_data = pd.read_csv('data/test_sample_data.csv')\n",
    "human_data['sentiment']= np.where(human_data['sentiment']=='positive', 1, 0)\n",
    "human_data.head(3)"
   ]
  },
  {
   "cell_type": "code",
   "execution_count": 45,
   "metadata": {},
   "outputs": [],
   "source": [
    "# Removing HTML tags using the BeautifulSoup module.\n",
    "for i in range(len(human_data)):\n",
    "    human_data['review'][i] = BeautifulSoup(human_data['review'][i]).get_text()"
   ]
  },
  {
   "cell_type": "code",
   "execution_count": 46,
   "metadata": {},
   "outputs": [],
   "source": [
    "# Removing punctuation\n",
    "for i in range(len(human_data)):\n",
    "    human_data['review'][i] = re.sub(\"[^a-zA-Z]\", ' ', human_data['review'][i])"
   ]
  },
  {
   "cell_type": "code",
   "execution_count": 47,
   "metadata": {},
   "outputs": [],
   "source": [
    "# converting into lowercase and splitting to eliminate stopwords\n",
    "for i in range(len(human_data)):\n",
    "    human_data['review'][i] = human_data['review'][i].lower()\n",
    "    human_data['review'][i] = human_data['review'][i].split()"
   ]
  },
  {
   "cell_type": "code",
   "execution_count": 48,
   "metadata": {},
   "outputs": [],
   "source": [
    "# setting stopwords and removing them\n",
    "swords = set(stopwords.words(\"english\"))\n",
    "\n",
    "for i in range(len(human_data)):\n",
    "    human_data['review'][i] = [w for w in human_data['review'][i] if w not in swords]               \n",
    "    human_data['review'][i]= \" \".join(human_data['review'][i])"
   ]
  },
  {
   "cell_type": "code",
   "execution_count": 49,
   "metadata": {},
   "outputs": [],
   "source": [
    "# creating features and targets\n",
    "X_hd = human_data.drop('sentiment', axis=1)\n",
    "y_hd  = human_data[\"sentiment\"]"
   ]
  },
  {
   "cell_type": "code",
   "execution_count": 50,
   "metadata": {},
   "outputs": [],
   "source": [
    "human_result = vect.transform(X_hd['review'])\n",
    "human_result = human_result.toarray() "
   ]
  },
  {
   "cell_type": "code",
   "execution_count": 51,
   "metadata": {},
   "outputs": [
    {
     "name": "stdout",
     "output_type": "stream",
     "text": [
      "Wall time: 43.2 ms\n",
      "Gaussian Naive Bayes Accuracy Score : 0.5247524752475248\n",
      "Gaussian Naive Bayes F1 Score : 0.529995552746764\n",
      "------------------------------\n",
      "Wall time: 7 ms\n",
      "Multinomial Naive Bayes Accuracy Score : 0.6534653465346535\n",
      "Multinomial Naive Bayes F1 Score : 0.6352533063525331\n",
      "------------------------------\n",
      "Wall time: 5.04 ms\n",
      "Logistic Regression Accuracy Score : 0.6336633663366337\n",
      "Logistic Regression F1 Score : 0.6144106381441065\n",
      "------------------------------\n",
      "Wall time: 142 ms\n",
      "Random Forest Classifier Accuracy Score : 0.6435643564356436\n",
      "Random Forest Classifier F1 Score : 0.6226592767972449\n",
      "------------------------------\n",
      "Wall time: 7.98 ms\n",
      "Decision Tree Classifier Accuracy Score : 0.6138613861386139\n",
      "Decision Tree Classifier F1 Score : 0.5978950133819352\n",
      "------------------------------\n"
     ]
    }
   ],
   "source": [
    "for name, model in models:\n",
    "    %time human_test_pred = model.predict(human_result)\n",
    "    print(name, \"Accuracy Score :\", accuracy_score(y_hd, human_test_pred))\n",
    "    print(name, \"F1 Score :\", f1_score(y_hd, human_test_pred, average = \"weighted\"))\n",
    "    print(\"---\" * 10)"
   ]
  },
  {
   "cell_type": "code",
   "execution_count": 59,
   "metadata": {},
   "outputs": [
    {
     "data": {
      "image/png": "[encoded data removed]",
      "text/plain": [
       "<Figure size 1080x216 with 5 Axes>"
      ]
     },
     "metadata": {
      "needs_background": "light"
     },
     "output_type": "display_data"
    }
   ],
   "source": [
    "# Generate ROC curve values: fpr, tpr, thresholds\n",
    "count=0\n",
    "\n",
    "fig, axes = plt.subplots(1, 5, figsize=(15, 3), sharey=True)\n",
    "\n",
    "for name, model in models:\n",
    "    \n",
    "    human_test_pred = model.predict(human_result)\n",
    "    fpr, tpr, thresholds = roc_curve(y_hd, human_test_pred)\n",
    "    \n",
    "    axes[count].plot(fpr, tpr)\n",
    "    axes[count].plot([0, 1], [0, 1], 'r--')\n",
    "    axes[count].set_xlabel('False Positive Rate')\n",
    "    axes[count].set_ylabel('True Positive Rate')\n",
    "    axes[count].set_title(name +' \\nROC Curve')\n",
    "    count+=1\n",
    "plt.show()"
   ]
  },
  {
   "cell_type": "code",
   "execution_count": 60,
   "metadata": {},
   "outputs": [
    {
     "data": {
      "image/png": "[encoded data removed]",
      "text/plain": [
       "<Figure size 1080x216 with 5 Axes>"
      ]
     },
     "metadata": {
      "needs_background": "light"
     },
     "output_type": "display_data"
    }
   ],
   "source": [
    "count=0\n",
    "\n",
    "fig, axes = plt.subplots(1, 5, figsize=(15, 3), sharey=True)\n",
    "\n",
    "for name, model in models:\n",
    "    \n",
    "    human_test_pred = model.predict(human_result)\n",
    "    prec, recall, _ = precision_recall_curve(y_hd, human_test_pred)\n",
    "\n",
    "    axes[count].plot(prec, recall)\n",
    "    axes[count].set_xlabel('Recall')\n",
    "    axes[count].set_ylabel('Precision')\n",
    "    axes[count].set_title(name +' \\nPrecision_Recall Curve')\n",
    "    count+=1\n",
    "plt.show()"
   ]
  },
  {
   "cell_type": "markdown",
   "metadata": {},
   "source": [
    "# Unsupervised Models"
   ]
  },
  {
   "cell_type": "code",
   "execution_count": null,
   "metadata": {},
   "outputs": [],
   "source": []
  },
  {
   "cell_type": "code",
   "execution_count": null,
   "metadata": {},
   "outputs": [],
   "source": []
  },
  {
   "cell_type": "code",
   "execution_count": null,
   "metadata": {},
   "outputs": [],
   "source": []
  },
  {
   "cell_type": "code",
   "execution_count": null,
   "metadata": {},
   "outputs": [],
   "source": []
  },
  {
   "cell_type": "code",
   "execution_count": null,
   "metadata": {},
   "outputs": [],
   "source": []
  },
  {
   "cell_type": "code",
   "execution_count": null,
   "metadata": {},
   "outputs": [],
   "source": []
  }
 ],
 "metadata": {
  "kernelspec": {
   "display_name": "Python 3",
   "language": "python",
   "name": "python3"
  },
  "language_info": {
   "codemirror_mode": {
    "name": "ipython",
    "version": 3
   },
   "file_extension": ".py",
   "mimetype": "text/x-python",
   "name": "python",
   "nbconvert_exporter": "python",
   "pygments_lexer": "ipython3",
   "version": "3.8.5"
  }
 },
 "nbformat": 4,
 "nbformat_minor": 4
}
